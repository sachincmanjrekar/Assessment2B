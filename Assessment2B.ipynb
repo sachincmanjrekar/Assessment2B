{
 "cells": [
  {
   "cell_type": "markdown",
   "metadata": {},
   "source": [
    "###### Assessment"
   ]
  },
  {
   "cell_type": "markdown",
   "metadata": {},
   "source": [
    "###### I am going to provide two .csv files , you are supposed to work on them and have to provide solutions to the following problems"
   ]
  },
  {
   "cell_type": "markdown",
   "metadata": {},
   "source": [
    "###### import necessary libraries"
   ]
  },
  {
   "cell_type": "code",
   "execution_count": 2,
   "metadata": {},
   "outputs": [],
   "source": [
    "import pandas as pd\n",
    "df1= pd.read_csv(\"college_1.csv\")\n",
    "df2= pd.read_csv(\"college_2.csv\")"
   ]
  },
  {
   "cell_type": "code",
   "execution_count": 51,
   "metadata": {},
   "outputs": [
    {
     "name": "stdout",
     "output_type": "stream",
     "text": [
      "<class 'pandas.core.frame.DataFrame'>\n",
      "RangeIndex: 84 entries, 0 to 83\n",
      "Data columns (total 7 columns):\n",
      " #   Column             Non-Null Count  Dtype  \n",
      "---  ------             --------------  -----  \n",
      " 0   Name               84 non-null     object \n",
      " 1   python             84 non-null     float64\n",
      " 2   mysql              84 non-null     float64\n",
      " 3   Previous Geekions  84 non-null     int64  \n",
      " 4   CodeKata Score     84 non-null     int64  \n",
      " 5   Department         84 non-null     object \n",
      " 6   Rising             84 non-null     int64  \n",
      "dtypes: float64(2), int64(3), object(2)\n",
      "memory usage: 4.7+ KB\n",
      "None\n",
      "<class 'pandas.core.frame.DataFrame'>\n",
      "RangeIndex: 35 entries, 0 to 34\n",
      "Data columns (total 9 columns):\n",
      " #   Column                  Non-Null Count  Dtype \n",
      "---  ------                  --------------  ----- \n",
      " 0   Name                    35 non-null     object\n",
      " 1   python                  35 non-null     int64 \n",
      " 2   python_en               35 non-null     int64 \n",
      " 3   mysql                   35 non-null     int64 \n",
      " 4   computational_thinking  35 non-null     int64 \n",
      " 5   Previous Geekions       35 non-null     int64 \n",
      " 6   CodeKata Score          35 non-null     int64 \n",
      " 7   Department              35 non-null     object\n",
      " 8   Rising                  35 non-null     int64 \n",
      "dtypes: int64(7), object(2)\n",
      "memory usage: 2.6+ KB\n",
      "None\n"
     ]
    }
   ],
   "source": [
    "print(df1.info())\n",
    "print(df2.info())"
   ]
  },
  {
   "cell_type": "markdown",
   "metadata": {},
   "source": [
    "###### merge those two csv files (after getting as dataframes, get them as a single dataframe)"
   ]
  },
  {
   "cell_type": "code",
   "execution_count": 5,
   "metadata": {},
   "outputs": [
    {
     "data": {
      "text/html": [
       "<div>\n",
       "<style scoped>\n",
       "    .dataframe tbody tr th:only-of-type {\n",
       "        vertical-align: middle;\n",
       "    }\n",
       "\n",
       "    .dataframe tbody tr th {\n",
       "        vertical-align: top;\n",
       "    }\n",
       "\n",
       "    .dataframe thead th {\n",
       "        text-align: right;\n",
       "    }\n",
       "</style>\n",
       "<table border=\"1\" class=\"dataframe\">\n",
       "  <thead>\n",
       "    <tr style=\"text-align: right;\">\n",
       "      <th></th>\n",
       "      <th>Name</th>\n",
       "      <th>python</th>\n",
       "      <th>mysql</th>\n",
       "      <th>Previous Geekions</th>\n",
       "      <th>CodeKata Score</th>\n",
       "      <th>Department</th>\n",
       "      <th>Rising</th>\n",
       "      <th>python_en</th>\n",
       "      <th>computational_thinking</th>\n",
       "    </tr>\n",
       "  </thead>\n",
       "  <tbody>\n",
       "    <tr>\n",
       "      <th>0</th>\n",
       "      <td>A.Dharani</td>\n",
       "      <td>82.0</td>\n",
       "      <td>20.0</td>\n",
       "      <td>24500</td>\n",
       "      <td>24500</td>\n",
       "      <td>Computer Science and Engineering</td>\n",
       "      <td>0</td>\n",
       "      <td>NaN</td>\n",
       "      <td>NaN</td>\n",
       "    </tr>\n",
       "    <tr>\n",
       "      <th>1</th>\n",
       "      <td>V.JEEVITHA</td>\n",
       "      <td>82.0</td>\n",
       "      <td>20.0</td>\n",
       "      <td>21740</td>\n",
       "      <td>21740</td>\n",
       "      <td>Computer Science and Engineering</td>\n",
       "      <td>0</td>\n",
       "      <td>NaN</td>\n",
       "      <td>NaN</td>\n",
       "    </tr>\n",
       "    <tr>\n",
       "      <th>2</th>\n",
       "      <td>HEMAVATHI.R</td>\n",
       "      <td>100.0</td>\n",
       "      <td>100.0</td>\n",
       "      <td>19680</td>\n",
       "      <td>19680</td>\n",
       "      <td>Computer Science and Engineering</td>\n",
       "      <td>0</td>\n",
       "      <td>NaN</td>\n",
       "      <td>NaN</td>\n",
       "    </tr>\n",
       "    <tr>\n",
       "      <th>3</th>\n",
       "      <td>Mugunthan S</td>\n",
       "      <td>100.0</td>\n",
       "      <td>47.0</td>\n",
       "      <td>10610</td>\n",
       "      <td>10610</td>\n",
       "      <td>Computer Science and Engineering</td>\n",
       "      <td>0</td>\n",
       "      <td>NaN</td>\n",
       "      <td>NaN</td>\n",
       "    </tr>\n",
       "    <tr>\n",
       "      <th>4</th>\n",
       "      <td>Sathammai.S</td>\n",
       "      <td>100.0</td>\n",
       "      <td>8.0</td>\n",
       "      <td>8980</td>\n",
       "      <td>8980</td>\n",
       "      <td>Computer Science and Engineering</td>\n",
       "      <td>0</td>\n",
       "      <td>NaN</td>\n",
       "      <td>NaN</td>\n",
       "    </tr>\n",
       "    <tr>\n",
       "      <th>...</th>\n",
       "      <td>...</td>\n",
       "      <td>...</td>\n",
       "      <td>...</td>\n",
       "      <td>...</td>\n",
       "      <td>...</td>\n",
       "      <td>...</td>\n",
       "      <td>...</td>\n",
       "      <td>...</td>\n",
       "      <td>...</td>\n",
       "    </tr>\n",
       "    <tr>\n",
       "      <th>114</th>\n",
       "      <td>praveen raj j</td>\n",
       "      <td>24.0</td>\n",
       "      <td>0.0</td>\n",
       "      <td>2380</td>\n",
       "      <td>2380</td>\n",
       "      <td>Computer Science and Engineering</td>\n",
       "      <td>0</td>\n",
       "      <td>-1.0</td>\n",
       "      <td>0.0</td>\n",
       "    </tr>\n",
       "    <tr>\n",
       "      <th>115</th>\n",
       "      <td>AMARNATH D</td>\n",
       "      <td>-1.0</td>\n",
       "      <td>12.0</td>\n",
       "      <td>1890</td>\n",
       "      <td>1890</td>\n",
       "      <td>Electronics and Communication Engineering</td>\n",
       "      <td>0</td>\n",
       "      <td>52.0</td>\n",
       "      <td>-1.0</td>\n",
       "    </tr>\n",
       "    <tr>\n",
       "      <th>116</th>\n",
       "      <td>bala</td>\n",
       "      <td>32.0</td>\n",
       "      <td>0.0</td>\n",
       "      <td>1720</td>\n",
       "      <td>1720</td>\n",
       "      <td>Electronics and Communication Engineering</td>\n",
       "      <td>0</td>\n",
       "      <td>49.0</td>\n",
       "      <td>-1.0</td>\n",
       "    </tr>\n",
       "    <tr>\n",
       "      <th>117</th>\n",
       "      <td>XY Z</td>\n",
       "      <td>-1.0</td>\n",
       "      <td>-1.0</td>\n",
       "      <td>0</td>\n",
       "      <td>0</td>\n",
       "      <td>Computer Science and Engineering</td>\n",
       "      <td>0</td>\n",
       "      <td>20.0</td>\n",
       "      <td>-1.0</td>\n",
       "    </tr>\n",
       "    <tr>\n",
       "      <th>118</th>\n",
       "      <td>Hariharan</td>\n",
       "      <td>-1.0</td>\n",
       "      <td>-1.0</td>\n",
       "      <td>0</td>\n",
       "      <td>0</td>\n",
       "      <td>Computer Science and Engineering</td>\n",
       "      <td>0</td>\n",
       "      <td>-1.0</td>\n",
       "      <td>0.0</td>\n",
       "    </tr>\n",
       "  </tbody>\n",
       "</table>\n",
       "<p>119 rows × 9 columns</p>\n",
       "</div>"
      ],
      "text/plain": [
       "              Name  python  mysql  Previous Geekions  CodeKata Score  \\\n",
       "0        A.Dharani    82.0   20.0              24500           24500   \n",
       "1      V.JEEVITHA     82.0   20.0              21740           21740   \n",
       "2      HEMAVATHI.R   100.0  100.0              19680           19680   \n",
       "3      Mugunthan S   100.0   47.0              10610           10610   \n",
       "4      Sathammai.S   100.0    8.0               8980            8980   \n",
       "..             ...     ...    ...                ...             ...   \n",
       "114  praveen raj j    24.0    0.0               2380            2380   \n",
       "115     AMARNATH D    -1.0   12.0               1890            1890   \n",
       "116           bala    32.0    0.0               1720            1720   \n",
       "117           XY Z    -1.0   -1.0                  0               0   \n",
       "118      Hariharan    -1.0   -1.0                  0               0   \n",
       "\n",
       "                                    Department  Rising  python_en  \\\n",
       "0             Computer Science and Engineering       0        NaN   \n",
       "1             Computer Science and Engineering       0        NaN   \n",
       "2             Computer Science and Engineering       0        NaN   \n",
       "3             Computer Science and Engineering       0        NaN   \n",
       "4             Computer Science and Engineering       0        NaN   \n",
       "..                                         ...     ...        ...   \n",
       "114           Computer Science and Engineering       0       -1.0   \n",
       "115  Electronics and Communication Engineering       0       52.0   \n",
       "116  Electronics and Communication Engineering       0       49.0   \n",
       "117           Computer Science and Engineering       0       20.0   \n",
       "118           Computer Science and Engineering       0       -1.0   \n",
       "\n",
       "     computational_thinking  \n",
       "0                       NaN  \n",
       "1                       NaN  \n",
       "2                       NaN  \n",
       "3                       NaN  \n",
       "4                       NaN  \n",
       "..                      ...  \n",
       "114                     0.0  \n",
       "115                    -1.0  \n",
       "116                    -1.0  \n",
       "117                    -1.0  \n",
       "118                     0.0  \n",
       "\n",
       "[119 rows x 9 columns]"
      ]
     },
     "execution_count": 5,
     "metadata": {},
     "output_type": "execute_result"
    }
   ],
   "source": [
    "res = pd.concat([df1,df2],axis=0,ignore_index=True)\n",
    "res"
   ]
  },
  {
   "cell_type": "markdown",
   "metadata": {},
   "source": [
    "###### Take each csv file , split that csv file into multiple categories (example csv files are added in the repo) \n"
   ]
  },
  {
   "cell_type": "markdown",
   "metadata": {},
   "source": [
    "###### consider if the codekata score exceeds 15000 points(present week) then make a csv on those observations as Exceeded expectations.csv\n"
   ]
  },
  {
   "cell_type": "code",
   "execution_count": 43,
   "metadata": {},
   "outputs": [],
   "source": [
    "a=res[(res['CodeKata Score']>15000)]\n",
    "a.to_csv(\"Exceeded expectations\")"
   ]
  },
  {
   "cell_type": "markdown",
   "metadata": {},
   "source": [
    "###### if  10000 < codekata score < 15000   (Reached_expectations.csv)\n",
    "\n"
   ]
  },
  {
   "cell_type": "code",
   "execution_count": 42,
   "metadata": {},
   "outputs": [],
   "source": [
    "b=res[(res['CodeKata Score']<15000) & (res['CodeKata Score']>10000)]\n",
    "b.to_csv(\"Reached_expectations\")"
   ]
  },
  {
   "cell_type": "markdown",
   "metadata": {},
   "source": [
    "###### if  7000 < codekata score < 10000   (Needs_Improvement.csv)\n"
   ]
  },
  {
   "cell_type": "code",
   "execution_count": 41,
   "metadata": {},
   "outputs": [],
   "source": [
    "c=res[(res['CodeKata Score']<10000) & (res['CodeKata Score']>7000)]\n",
    "c.to_csv(\"Needs_Improvement\")"
   ]
  },
  {
   "cell_type": "markdown",
   "metadata": {},
   "source": [
    "###### if  codekate score < 7000        (Unsatisfactory.csv)"
   ]
  },
  {
   "cell_type": "code",
   "execution_count": 40,
   "metadata": {
    "scrolled": true
   },
   "outputs": [],
   "source": [
    "d=res[(res['CodeKata Score']<7000)]\n",
    "d.to_csv(\"Unsatisfactory\")"
   ]
  },
  {
   "cell_type": "markdown",
   "metadata": {},
   "source": [
    "###### Average of previous week geekions vs this week geekions (i.e Previous Geekions vs CodeKata Score)"
   ]
  },
  {
   "cell_type": "code",
   "execution_count": 47,
   "metadata": {},
   "outputs": [
    {
     "data": {
      "text/plain": [
       "0      24500.0\n",
       "1      21740.0\n",
       "2      19680.0\n",
       "3      10610.0\n",
       "4       8980.0\n",
       "        ...   \n",
       "114     2380.0\n",
       "115     1890.0\n",
       "116     1720.0\n",
       "117        0.0\n",
       "118        0.0\n",
       "Length: 119, dtype: float64"
      ]
     },
     "execution_count": 47,
     "metadata": {},
     "output_type": "execute_result"
    }
   ],
   "source": [
    "Average =pd.Series(res[[\"Previous Geekions\",\"CodeKata Score\"]].mean(axis=1))\n",
    "Average"
   ]
  },
  {
   "cell_type": "markdown",
   "metadata": {},
   "source": [
    "###### No of students participated "
   ]
  },
  {
   "cell_type": "code",
   "execution_count": 200,
   "metadata": {},
   "outputs": [
    {
     "data": {
      "text/plain": [
       "119"
      ]
     },
     "execution_count": 200,
     "metadata": {},
     "output_type": "execute_result"
    }
   ],
   "source": [
    "len(res[\"Name\"].unique())"
   ]
  },
  {
   "cell_type": "markdown",
   "metadata": {},
   "source": [
    "###### #Average completion of python course or my_sql or python english or computational thinking"
   ]
  },
  {
   "cell_type": "code",
   "execution_count": 59,
   "metadata": {},
   "outputs": [
    {
     "data": {
      "text/plain": [
       "python                    78.253012\n",
       "mysql                     40.557971\n",
       "python_en                 45.260870\n",
       "computational_thinking    10.500000\n",
       "dtype: float64"
      ]
     },
     "execution_count": 59,
     "metadata": {},
     "output_type": "execute_result"
    }
   ],
   "source": [
    "import numpy as np       #Here we not considering null or negative values\n",
    "res[[\"python\",\"mysql\",\"python_en\",\"computational_thinking\"]].replace([0.0,-1.0],np.nan).mean(axis=0,skipna=True)"
   ]
  },
  {
   "cell_type": "markdown",
   "metadata": {},
   "source": [
    "###### rising star of the week (top 3 candidate who performed well in that particular week)"
   ]
  },
  {
   "cell_type": "markdown",
   "metadata": {},
   "source": [
    "###### Method 1"
   ]
  },
  {
   "cell_type": "code",
   "execution_count": 121,
   "metadata": {},
   "outputs": [
    {
     "data": {
      "text/html": [
       "<div>\n",
       "<style scoped>\n",
       "    .dataframe tbody tr th:only-of-type {\n",
       "        vertical-align: middle;\n",
       "    }\n",
       "\n",
       "    .dataframe tbody tr th {\n",
       "        vertical-align: top;\n",
       "    }\n",
       "\n",
       "    .dataframe thead th {\n",
       "        text-align: right;\n",
       "    }\n",
       "</style>\n",
       "<table border=\"1\" class=\"dataframe\">\n",
       "  <thead>\n",
       "    <tr style=\"text-align: right;\">\n",
       "      <th></th>\n",
       "      <th>Name</th>\n",
       "      <th>Rising</th>\n",
       "    </tr>\n",
       "  </thead>\n",
       "  <tbody>\n",
       "    <tr>\n",
       "      <th>92</th>\n",
       "      <td>shifak N</td>\n",
       "      <td>3140</td>\n",
       "    </tr>\n",
       "    <tr>\n",
       "      <th>102</th>\n",
       "      <td>Narasimhan Y L</td>\n",
       "      <td>2000</td>\n",
       "    </tr>\n",
       "    <tr>\n",
       "      <th>86</th>\n",
       "      <td>Ganesh Ramkumar R</td>\n",
       "      <td>2000</td>\n",
       "    </tr>\n",
       "  </tbody>\n",
       "</table>\n",
       "</div>"
      ],
      "text/plain": [
       "                  Name  Rising\n",
       "92            shifak N    3140\n",
       "102     Narasimhan Y L    2000\n",
       "86   Ganesh Ramkumar R    2000"
      ]
     },
     "execution_count": 121,
     "metadata": {},
     "output_type": "execute_result"
    }
   ],
   "source": [
    "res[[\"Name\",\"Rising\"]].iloc[res[\"Rising\"].sort_values(ascending=False).head(3).index]"
   ]
  },
  {
   "cell_type": "markdown",
   "metadata": {},
   "source": [
    "###### Method 2"
   ]
  },
  {
   "cell_type": "code",
   "execution_count": 206,
   "metadata": {},
   "outputs": [
    {
     "data": {
      "text/html": [
       "<div>\n",
       "<style scoped>\n",
       "    .dataframe tbody tr th:only-of-type {\n",
       "        vertical-align: middle;\n",
       "    }\n",
       "\n",
       "    .dataframe tbody tr th {\n",
       "        vertical-align: top;\n",
       "    }\n",
       "\n",
       "    .dataframe thead th {\n",
       "        text-align: right;\n",
       "    }\n",
       "</style>\n",
       "<table border=\"1\" class=\"dataframe\">\n",
       "  <thead>\n",
       "    <tr style=\"text-align: right;\">\n",
       "      <th></th>\n",
       "      <th>Name</th>\n",
       "      <th>Rising</th>\n",
       "    </tr>\n",
       "  </thead>\n",
       "  <tbody>\n",
       "    <tr>\n",
       "      <th>92</th>\n",
       "      <td>shifak N</td>\n",
       "      <td>3140</td>\n",
       "    </tr>\n",
       "    <tr>\n",
       "      <th>102</th>\n",
       "      <td>Narasimhan Y L</td>\n",
       "      <td>2000</td>\n",
       "    </tr>\n",
       "    <tr>\n",
       "      <th>86</th>\n",
       "      <td>Ganesh Ramkumar R</td>\n",
       "      <td>2000</td>\n",
       "    </tr>\n",
       "  </tbody>\n",
       "</table>\n",
       "</div>"
      ],
      "text/plain": [
       "                  Name  Rising\n",
       "92            shifak N    3140\n",
       "102     Narasimhan Y L    2000\n",
       "86   Ganesh Ramkumar R    2000"
      ]
     },
     "execution_count": 206,
     "metadata": {},
     "output_type": "execute_result"
    }
   ],
   "source": [
    "res.sort_values('Rising',ascending=False)[[\"Name\",\"Rising\"]].head(3)"
   ]
  },
  {
   "cell_type": "markdown",
   "metadata": {},
   "source": [
    "###### Shining stars of the week (top 3 candidates who has highest geekions)"
   ]
  },
  {
   "cell_type": "code",
   "execution_count": 126,
   "metadata": {},
   "outputs": [
    {
     "data": {
      "text/html": [
       "<div>\n",
       "<style scoped>\n",
       "    .dataframe tbody tr th:only-of-type {\n",
       "        vertical-align: middle;\n",
       "    }\n",
       "\n",
       "    .dataframe tbody tr th {\n",
       "        vertical-align: top;\n",
       "    }\n",
       "\n",
       "    .dataframe thead th {\n",
       "        text-align: right;\n",
       "    }\n",
       "</style>\n",
       "<table border=\"1\" class=\"dataframe\">\n",
       "  <thead>\n",
       "    <tr style=\"text-align: right;\">\n",
       "      <th></th>\n",
       "      <th>Name</th>\n",
       "      <th>CodeKata Score</th>\n",
       "    </tr>\n",
       "  </thead>\n",
       "  <tbody>\n",
       "    <tr>\n",
       "      <th>0</th>\n",
       "      <td>A.Dharani</td>\n",
       "      <td>24500</td>\n",
       "    </tr>\n",
       "    <tr>\n",
       "      <th>1</th>\n",
       "      <td>V.JEEVITHA</td>\n",
       "      <td>21740</td>\n",
       "    </tr>\n",
       "    <tr>\n",
       "      <th>2</th>\n",
       "      <td>HEMAVATHI.R</td>\n",
       "      <td>19680</td>\n",
       "    </tr>\n",
       "  </tbody>\n",
       "</table>\n",
       "</div>"
      ],
      "text/plain": [
       "          Name  CodeKata Score\n",
       "0    A.Dharani           24500\n",
       "1  V.JEEVITHA            21740\n",
       "2  HEMAVATHI.R           19680"
      ]
     },
     "execution_count": 126,
     "metadata": {},
     "output_type": "execute_result"
    }
   ],
   "source": [
    "res[[\"Name\",\"CodeKata Score\"]].iloc[res[\"CodeKata Score\"].sort_values(ascending=False).head(3).index]"
   ]
  },
  {
   "cell_type": "markdown",
   "metadata": {},
   "source": [
    "###### Department wise codekata performence (pie chart)"
   ]
  },
  {
   "cell_type": "markdown",
   "metadata": {},
   "source": [
    "###### Method 1: Using only Pandas ploting methods"
   ]
  },
  {
   "cell_type": "code",
   "execution_count": 194,
   "metadata": {},
   "outputs": [
    {
     "data": {
      "image/png": "[encoded data removed]",
      "text/plain": [
       "<Figure size 640x480 with 1 Axes>"
      ]
     },
     "metadata": {},
     "output_type": "display_data"
    }
   ],
   "source": [
    "res.groupby(\"Department\")[\"CodeKata Score\"].mean().plot(kind=\"pie\",title=\"CodeKata Performance by department\");"
   ]
  },
  {
   "cell_type": "markdown",
   "metadata": {},
   "source": [
    "###### Method 2: Using MatPlot methods"
   ]
  },
  {
   "cell_type": "code",
   "execution_count": 181,
   "metadata": {},
   "outputs": [
    {
     "data": {
      "text/plain": [
       "Department\n",
       "Computer Science and Engineering             5079.761905\n",
       "Electronics and Communication Engineering    2777.820513\n",
       "Electronics and Electrical Engineering       3164.705882\n",
       "Name: CodeKata Score, dtype: float64"
      ]
     },
     "execution_count": 181,
     "metadata": {},
     "output_type": "execute_result"
    }
   ],
   "source": [
    "import matplotlib.pyplot as plt\n",
    "res.groupby(\"Department\")[\"CodeKata Score\"].mean()"
   ]
  },
  {
   "cell_type": "code",
   "execution_count": 185,
   "metadata": {},
   "outputs": [
    {
     "data": {
      "image/png": "[encoded data removed]",
      "text/plain": [
       "<Figure size 640x480 with 1 Axes>"
      ]
     },
     "metadata": {},
     "output_type": "display_data"
    }
   ],
   "source": [
    "import matplotlib.pyplot as plt\n",
    "a=res.groupby(\"Department\")[\"CodeKata Score\"].mean()\n",
    "department=[\"Computer Science and Engineering\",\"Electronics and Communication Engineering\",\"Electronics and Electrical Engineering\"]\n",
    "plt.pie(a,labels=department)\n",
    "plt.show()"
   ]
  },
  {
   "cell_type": "markdown",
   "metadata": {},
   "source": [
    "###### Department wise toppers (horizantal bar graph or any visual representations of your choice)"
   ]
  },
  {
   "cell_type": "code",
   "execution_count": 202,
   "metadata": {},
   "outputs": [
    {
     "data": {
      "image/png": "[encoded data removed]",
      "text/plain": [
       "<Figure size 640x480 with 1 Axes>"
      ]
     },
     "metadata": {},
     "output_type": "display_data"
    }
   ],
   "source": [
    "res.groupby(\"Department\")[\"CodeKata Score\"].max().plot(kind=\"barh\",title=\"Maximum CodeKata Score\");"
   ]
  },
  {
   "cell_type": "code",
   "execution_count": null,
   "metadata": {},
   "outputs": [],
   "source": []
  }
 ],
 "metadata": {
  "kernelspec": {
   "display_name": "Python 3 (ipykernel)",
   "language": "python",
   "name": "python3"
  },
  "language_info": {
   "codemirror_mode": {
    "name": "ipython",
    "version": 3
   },
   "file_extension": ".py",
   "mimetype": "text/x-python",
   "name": "python",
   "nbconvert_exporter": "python",
   "pygments_lexer": "ipython3",
   "version": "3.9.13"
  }
 },
 "nbformat": 4,
 "nbformat_minor": 2
}
